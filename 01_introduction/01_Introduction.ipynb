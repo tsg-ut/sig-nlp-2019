{
  "cells": [
    {
      "cell_type": "markdown",
      "metadata": {},
      "source": [
        "# 概論\n",
        "\n",
        "## 自然言語とは\n",
        "自然言語処理における自然言語とは，以下の観点などからプログラミング言語などの機械言語と対比される言語である。\n",
        "- 曖昧性\n",
        "- 文脈への依存性\n",
        "- 表現の多様性\n",
        "\n",
        "エスペラント等は人工言語と呼ばれることもあるが，自然言語処理においては自然言語として扱われることが多い。\n"
      ]
    },
    {
      "cell_type": "markdown",
      "metadata": {},
      "source": [
        "## 分野\n",
        "\n",
        "人間の言語活動を様々な領域でサポートする。\n",
        "\n",
        "![](https://image.slidesharecdn.com/20150316ipsjnlp-150319223235-conversion-gate01/95/-6-638.jpg?cb=1426822203)\n",
        "https://www.slideshare.net/unnonouno/20150316-ipsj-nlp"
      ]
    },
    {
      "cell_type": "markdown",
      "metadata": {},
      "source": [
        "## 最近の自然言語処理\n",
        "\n",
        "Webの普及に伴い巨大な言語データ（コーパス）の入手が容易くなったことで，言語学に即した処理に代わり，統計処理や機械学習が台頭してきた。\n",
        "\n",
        "図: 一般的なデータサイエンスのワークフロー\n",
        "![](https://gist.githubusercontent.com/pizzacat83/3d2755c66c2879ce0ceae6fe10b5d4b3/raw/8f36fe8338e40cf0b75793b0691aad6624107148/nlp.svg?sanitize=true)"
      ]
    },
    {
      "cell_type": "markdown",
      "metadata": {},
      "source": [
        "# データ収集\n",
        "\n",
        "## コーパス\n",
        "大量のデータを学習して何かをする場合，まず大量のデータが必要。言語の使用例を集めたデータを**コーパス** (corpus)という。コーパスは以下の性質を持つ。\n",
        "\n",
        "- 偏りがない\n",
        "- 規模が大きい\n",
        "- 作例でない\n",
        "\n",
        "コーパスは生コーパスとアノテーション付きコーパスに分類できる。**アノテーション** （注釈, annotation）とは，言葉の表層であるプレーンな文字列には出てこない隠れた情報を生コーパスに付加するものである。例えば品詞情報を単語に付加したり，文構造情報を付加したり，「それ」などの指示語に対して指示対象の情報を付加したりできる。アノテーション付きコーパスは教師あり学習のデータとして有効である。\n",
        "\n",
        "コーパス作成にはアノテーションの手間や著作権などの障壁があり，有料のものも多い。無料で使える日本語コーパス（あるいはその代わりになるもの）を以下に紹介する。Scrapboxにも色々書いてあるので参照されたし。\n",
        "\n",
        "- [NPCMJ](http://npcmj.ninjal.ac.jp/)\n",
        "  + 文構造アノテーション\n",
        "- [青空文庫](https://www.aozora.gr.jp/)\n",
        "  + [GitHubリポジトリ](https://github.com/aozorabunko/aozorabunko)がないことはない\n",
        "  + 最近更新されていないが，[作家別ダウンロード](http://keison.sakura.ne.jp/)も存在する\n",
        "- [Wikipedia](https://ja.wikipedia.org/wiki/Wikipedia:データベースダウンロード)\n",
        "- [名大会話コーパス](https://mmsrv.ninjal.ac.jp/nucc/)\n",
        "  + 会話を文字起こししたコーパス（合計約100時間）\n",
        "- [雑談対話コーパス](https://sites.google.com/site/dialoguebreakdowndetection/chat-dialogue-corpus)\n",
        "  + 人間とbotとの雑談を記録し，対話が破綻した箇所がアノテートされている。\n",
        "- [首都大Twitterコーパス](https://github.com/tmu-nlp/TwitterCorpus)\n",
        "  + Twitter APIを用いてテキストを取得して初めてコーパスが完成する。\n",
        "\n",
        "## 辞書\n",
        "人間が使う一般的な辞書は自然言語を自然言語で説明しており，機械が扱うには不便である。書いた人は辞書にあまり詳しくないので各自調べてほしい。\n",
        "\n",
        "- [日本語WordNet](http://compling.hss.ntu.edu.sg/wnja/)\n",
        "  + 単語の意味を上位・下位概念などで結びつける\n",
        "- [日本語評価極性辞書](http://www.cl.ecei.tohoku.ac.jp/index.php?Open%20Resources%2FJapanese%20Sentiment%20Polarity%20Dictionary)\n",
        "  + 単語がポジティブな意味かネガティブな意味かを数値化したもの\n",
        "  + 平均するとネガティブ寄りであることに注意"
      ]
    },
    {
      "cell_type": "markdown",
      "metadata": {},
      "source": [
        "## コーパスの構築\n",
        "Web上の記事などを収集し，自分でコーパス（もどき）を作ることもできる。Webサーフィンして色々なWebページをダウンロードすることを**クローリング** (crawling) といい，Webページ全体から欲しい情報を抽出することを**スクレイピング** (scraping)という。\n",
        "\n",
        "### 注意点\n",
        "ウェブサイトへのアクセスは相手のWebサーバに負荷をかける。人間が常識的にブラウズする程度で問題になることは稀だが，プログラムを用いて自動で大量にアクセスする際には注意する必要がある。相手が何らかの条件（例: 1分間に150回）を明示している場合にはそれに従えば良い。そうでない場合はとりあえず以下のマナーを守っておく。\n",
        "\n",
        "\n",
        ">- robots.txt/robotsメタタグのアクセス制限内容を守る。\n",
        "- robots.txtがない場合でも、サーバアクセスの間隔を1秒以上空けるようにする。\n",
        "- Pragma:No-cacheメタタグが設定されているページはダウンロードしない。\n",
        "- rel=”nofollow”が設定されているリンクはクローラーで辿らない。\n",
        "- 会員のみが閲覧できるページの場合は利用規約を守る。\n",
        "- 情報収集を禁止する措置（ex.アクセス制限）がクローリング時に取られていた場合は、既に取得していた情報を含めて削除する\n",
        ">\n",
        ">※参考：著作権法第47条(6)\n",
        "\n",
        "- [Webスクレイピングの注意事項一覧](https://qiita.com/nezuq/items/c5e827e1827e7cb29011)\n",
        "- [Webスクレイピングの法律周りの話をしよう！](https://qiita.com/nezuq/items/3cc9772118ad112c18dc)\n",
        "\n",
        "### フレームワーク\n",
        "\n",
        "- [Scrapy](https://scrapy.org/)\n",
        "  + クローリングとスクレイピング両方を担当する\n",
        "- [BeautifulSoup4](https://www.crummy.com/software/BeautifulSoup/)\n",
        "  + スクレイピングのみ\n",
        "\n",
        "### 実習: 自分のブログ記事からコーパスを作ろう\n",
        "HTMLというNLPにおいて非本質的な前提知識を要求するのでやらない予定。"
      ]
    },
    {
      "cell_type": "code",
      "execution_count": null,
      "metadata": {},
      "outputs": [],
      "source": []
    },
    {
      "cell_type": "code",
      "execution_count": null,
      "metadata": {},
      "outputs": [],
      "source": []
    },
    {
      "cell_type": "markdown",
      "metadata": {},
      "source": [
        "# 参考文献\n",
        "人工知能学会. (2017). 人工知能学大事典. 共立出版."
      ]
    },
    {
      "cell_type": "code",
      "execution_count": null,
      "metadata": {},
      "outputs": [],
      "source": []
    }
  ],
  "metadata": {},
  "nbformat": 4,
  "nbformat_minor": 2
}
