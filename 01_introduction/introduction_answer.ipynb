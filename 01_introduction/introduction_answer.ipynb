{
  "cells": [
    {
      "cell_type": "markdown",
      "metadata": {},
      "source": [
        "# 概論\n",
        "\n",
        "## 自然言語とは\n",
        "自然言語処理における自然言語とは，以下の観点などからプログラミング言語などの機械言語と対比される言語である。\n",
        "- 曖昧性\n",
        "- 文脈への依存性\n",
        "- 表現の多様性\n",
        "\n",
        "エスペラント等は人工言語と呼ばれることもあるが，自然言語処理においては自然言語として扱われることが多い。\n"
      ]
    },
    {
      "cell_type": "markdown",
      "metadata": {},
      "source": [
        "## 分野\n",
        "\n",
        "人間の言語活動を様々な領域でサポートする。\n",
        "\n",
        "![](https://image.slidesharecdn.com/20150316ipsjnlp-150319223235-conversion-gate01/95/-6-638.jpg?cb=1426822203)\n",
        "https://www.slideshare.net/unnonouno/20150316-ipsj-nlp"
      ]
    },
    {
      "cell_type": "markdown",
      "metadata": {},
      "source": [
        "## 最近の自然言語処理\n",
        "\n",
        "Webの普及に伴い巨大な言語データ（コーパス）の入手が容易くなったことで，言語学に即した処理に代わり，統計処理や機械学習が台頭してきた。\n",
        "\n",
        "図: 一般的なデータサイエンスのワークフロー\n",
        "![](https://gist.githubusercontent.com/pizzacat83/3d2755c66c2879ce0ceae6fe10b5d4b3/raw/8f36fe8338e40cf0b75793b0691aad6624107148/nlp.svg?sanitize=true)"
      ]
    },
    {
      "cell_type": "markdown",
      "metadata": {},
      "source": [
        "# データ収集\n",
        "\n",
        "## コーパス\n",
        "大量のデータを学習して何かをする場合，まず大量のデータが必要。言語の使用例を集めたデータを**コーパス** (corpus)という。コーパスは以下の性質を持つ。\n",
        "\n",
        "- 偏りがない\n",
        "- 規模が大きい\n",
        "- 作例でない\n",
        "\n",
        "コーパスは生コーパスとアノテーション付きコーパスに分類できる。**アノテーション** （注釈, annotation）とは，言葉の表層であるプレーンな文字列には出てこない隠れた情報を生コーパスに付加するものである。例えば品詞情報を単語に付加したり，文構造情報を付加したり，「それ」などの指示語に対して指示対象の情報を付加したりできる。アノテーション付きコーパスは教師あり学習のデータとして有効である。\n",
        "\n",
        "コーパス作成にはアノテーションの手間や著作権などの障壁があり，有料のものも多い。無料で使える日本語コーパス（あるいはその代わりになるもの）を以下に紹介する。Scrapboxにも色々書いてあるので参照されたし。\n",
        "\n",
        "- [NPCMJ](http://npcmj.ninjal.ac.jp/)\n",
        "  + 文構造アノテーション\n",
        "- [青空文庫](https://www.aozora.gr.jp/)\n",
        "  + [GitHubリポジトリ](https://github.com/aozorabunko/aozorabunko)がないことはない\n",
        "  + 最近更新されていないが，[作家別ダウンロード](http://keison.sakura.ne.jp/)も存在する\n",
        "- [Wikipedia](https://ja.wikipedia.org/wiki/Wikipedia:データベースダウンロード)\n",
        "- [名大会話コーパス](https://mmsrv.ninjal.ac.jp/nucc/)\n",
        "  + 会話を文字起こししたコーパス（合計約100時間）\n",
        "- [雑談対話コーパス](https://sites.google.com/site/dialoguebreakdowndetection/chat-dialogue-corpus)\n",
        "  + 人間とbotとの雑談を記録し，対話が破綻した箇所がアノテートされている。\n",
        "- [首都大Twitterコーパス](https://github.com/tmu-nlp/TwitterCorpus)\n",
        "  + Twitter APIを用いてテキストを取得して初めてコーパスが完成する。\n",
        "- TSG Slackのログ\n",
        "  + 一般に公開しているものではないので，得られた情報を公開する場合は了解を得ること\n",
        "\n",
        "## 辞書\n",
        "人間が使う一般的な辞書は自然言語を自然言語で説明しており，機械が扱うには不便である。書いた人は辞書にあまり詳しくないので各自調べてほしい。\n",
        "\n",
        "- [日本語WordNet](http://compling.hss.ntu.edu.sg/wnja/)\n",
        "  + 単語の意味を上位・下位概念などで結びつける\n",
        "- [日本語評価極性辞書](http://www.cl.ecei.tohoku.ac.jp/index.php?Open%20Resources%2FJapanese%20Sentiment%20Polarity%20Dictionary)\n",
        "  + 単語がポジティブな意味かネガティブな意味かを数値化したもの\n",
        "  + 平均するとネガティブ寄りであることに注意"
      ]
    },
    {
      "cell_type": "markdown",
      "metadata": {},
      "source": [
        "## コーパスの構築\n",
        "Web上の記事などを収集し，自分でコーパス（もどき）を作ることもできる。Webサーフィンして色々なWebページをダウンロードすることを**クローリング** (crawling) といい，Webページ全体から欲しい情報を抽出することを**スクレイピング** (scraping)という。\n",
        "\n",
        "### 注意点\n",
        "ウェブサイトへのアクセスは相手のWebサーバに負荷をかける。人間が常識的にブラウズする程度で問題になることは稀だが，プログラムを用いて自動で大量にアクセスする際には注意する必要がある。相手が何らかの条件（例: 1分間に150回）を明示している場合にはそれに従えば良い。そうでない場合はとりあえず以下のマナーを守っておく。\n",
        "\n",
        "\n",
        ">- robots.txt/robotsメタタグのアクセス制限内容を守る。\n",
        "- robots.txtがない場合でも、サーバアクセスの間隔を1秒以上空けるようにする。\n",
        "- Pragma:No-cacheメタタグが設定されているページはダウンロードしない。\n",
        "- rel=”nofollow”が設定されているリンクはクローラーで辿らない。\n",
        "- 会員のみが閲覧できるページの場合は利用規約を守る。\n",
        "- 情報収集を禁止する措置（ex.アクセス制限）がクローリング時に取られていた場合は、既に取得していた情報を含めて削除する\n",
        ">\n",
        ">※参考：著作権法第47条(6)\n",
        "\n",
        "- [Webスクレイピングの注意事項一覧](https://qiita.com/nezuq/items/c5e827e1827e7cb29011)\n",
        "- [Webスクレイピングの法律周りの話をしよう！](https://qiita.com/nezuq/items/3cc9772118ad112c18dc)\n",
        "\n",
        "### フレームワーク\n",
        "\n",
        "- [Scrapy](https://scrapy.org/)\n",
        "  + クローリングとスクレイピング両方を担当する\n",
        "- [BeautifulSoup4](https://www.crummy.com/software/BeautifulSoup/)\n",
        "  + スクレイピングのみ\n",
        "\n",
        "### 実習: 自分のブログ記事からコーパスを作ろう\n",
        "HTMLというNLPにおいて非本質的な前提知識を要求するのでやらない予定。"
      ]
    },
    {
      "cell_type": "markdown",
      "metadata": {},
      "source": [
        "# 前処理\n",
        "\n",
        "\n",
        "## ゴミの除去\n",
        "\n",
        "集めたデータには不要な情報や不適切なデータが含まれていることがある。例えばMarkdownやHTMLで書かれた文書を収集した場合は装飾部分を除去する必要があるし，品詞アノテーション付きコーパスで品詞情報が不要であればそれを除去する必要がある。\n",
        "\n",
        "HTMLやXMLの文書から必要なものを抽出するには[BeautifulSoup4](https://www.crummy.com/software/BeautifulSoup/)などのHTML/XMLパーサを用いると良い。\n",
        "\n",
        "正規表現でサクッと処理できると幸せ。\n",
        "\n",
        "### 正規表現\n",
        "[Python公式チュートリアル](https://docs.python.org/ja/3/howto/regex.html)\n",
        "\n",
        "色々書いてあるがよく使うものは，\n",
        "\n",
        "- `[tsg]`: `t`, `s`, `g`のいずれか1文字にマッチ\n",
        "- `.`: 改行以外の任意の1文字にマッチ\n",
        "- `*`: 0回以上の繰り返し\n",
        "- `+`: 1回以上の繰り返し\n",
        "- `?`: `*` `+`の後につけると最左マッチになる（デフォルトは最長マッチ）\n",
        "- `pattern1|pattern2`: `pattern1`または`pattern2`にマッチ\n",
        "- `(pattern)`: グルーピング。演算子の優先度を変えるのにも使えるし，`()`内にマッチしたテキストを得ることもできる\n",
        "- `\\`: 特殊文字のエスケープ\n",
        "\n",
        "あとは必要になった時にググれば良さそう。"
      ]
    },
    {
      "cell_type": "markdown",
      "metadata": {},
      "source": [
        "### 実習: 青空文庫のテキストからルビを除去してみよう\n",
        "\n",
        "以下のコマンドで練習用ファイルをダウンロードします。"
      ]
    },
    {
      "cell_type": "code",
      "execution_count": null,
      "metadata": {},
      "outputs": [],
      "source": [
        "# Unix系\n",
        "\n",
        "# 練習用ファイルのダウンロード\n",
        "!curl https://gist.githubusercontent.com/pizzacat83/c6b3b57b360a2b411f2ee5086e33fcae/raw/b16f45f1c7cda191553a640c697b31431e207129/moerus_p1.txt -o data/moerus_p1.txt\n",
        "!curl https://gist.githubusercontent.com/pizzacat83/c6b3b57b360a2b411f2ee5086e33fcae/raw/b16f45f1c7cda191553a640c697b31431e207129/moerus.txt -o data/moerus.txt\n"
      ]
    },
    {
      "cell_type": "code",
      "execution_count": null,
      "metadata": {},
      "outputs": [],
      "source": [
        "# Windows\n",
        "\n",
        "# 練習用ファイルのダウンロード\n",
        "!pwsh -Command Invoke-WebRequest -Uri https://gist.githubusercontent.com/pizzacat83/c6b3b57b360a2b411f2ee5086e33fcae/raw/b16f45f1c7cda191553a640c697b31431e207129/moerus_p1.txt -OutFile data/moerus_p1.txt\n",
        "!pwsh -Command Invoke-WebRequest -Uri https://gist.githubusercontent.com/pizzacat83/c6b3b57b360a2b411f2ee5086e33fcae/raw/b16f45f1c7cda191553a640c697b31431e207129/moerus.txt -OutFile data/moerus.txt\n",
        "# 試してないので動かなかったらブラウザからアクセスして落としてください\n"
      ]
    },
    {
      "cell_type": "markdown",
      "metadata": {},
      "source": [
        "#### 1. ファイルの読み込み\n",
        "`data/moerus_p1.txt`を読み込んで，`text`という変数にファイルの内容を代入してください。その後，`text`を表示してください。"
      ]
    },
    {
      "cell_type": "code",
      "execution_count": null,
      "metadata": {},
      "outputs": [],
      "source": [
        "text = open('data/moerus_p1.txt').read()"
      ]
    },
    {
      "cell_type": "code",
      "execution_count": null,
      "metadata": {},
      "outputs": [],
      "source": [
        "print(text)"
      ]
    },
    {
      "cell_type": "markdown",
      "metadata": {},
      "source": [
        "#### 2. ルビの検出\n",
        "テキストに`《ルビ》`という形式で漢字の読みが書かれていることがわかります。もしこれをそのままコーパスとして使ってしまうと，「Alexa，電気を消して」「はい，電気開き二重山括弧でんき閉じ二重山括弧を消開き二重山括弧け閉じ二重山括弧します」などというはちゃめちゃなbotが出来上がることになります。まずはこのルビを検出しましょう。\n",
        "\n",
        "**タスク**: `text`に含まれる`《...》`に，括弧ごとマッチするような正規表現`r`を作成してください。その後，その正規表現にマッチする文字列を全て列挙してください。\n",
        "\n",
        "**期待される出力**: `['《じゃちぼうぎゃく》', '《こ》', '《はなむこ》', '《はず》', '《ろうや》']`"
      ]
    },
    {
      "cell_type": "code",
      "execution_count": null,
      "metadata": {},
      "outputs": [],
      "source": [
        "import re\n",
        "\n",
        "r2 = re.compile('《.+?》')\n",
        "r2.findall(text)"
      ]
    },
    {
      "cell_type": "code",
      "execution_count": null,
      "metadata": {},
      "outputs": [],
      "source": [
        "# 最長マッチにしてしまうと\n",
        "\n",
        "import re\n",
        "\n",
        "r_wrong = re.compile('《.+》')\n",
        "r_wrong.findall(text)"
      ]
    },
    {
      "cell_type": "markdown",
      "metadata": {},
      "source": [
        "#### 3. ルビの除去\n",
        "今作成した`r`を用いて，ルビの除去をします。"
      ]
    },
    {
      "cell_type": "code",
      "execution_count": null,
      "metadata": {},
      "outputs": [],
      "source": [
        "r2.sub('', text)\n",
        "# stringのreplaceと引数の順番がちょっと違うので注意\n",
        "# Shift+Tabでdocstringを見よう"
      ]
    },
    {
      "cell_type": "markdown",
      "metadata": {},
      "source": [
        "#### 4. 大きなファイルでのルビ除去\n",
        "今回は数KBの小さなテキストの処理なので，テキスト全体をロードして変数に代入した。しかし巨大なテキストをメモリ上に乗せて処理することは困難である。この場合，ファイルからテキストをメモリに乗るサイズの小さなまとまりずつ読み込み，そのまとまりごとに処理する。Pythonを含む多くの言語ではファイルから1行ずつ読み込む方法をサポートしており，これを用いて1行ずつ処理することが多い。\n",
        "\n",
        "参考: ファイル整形に限らず「。」をまたいで処理をする必要に駆られることは少ない。これを利用して，「。」でファイルを区切って1文ずつ処理することもできる。ただし`。`を区切り文字にして少しずつ読み込む方法を標準で提供している言語はさほど多くないため，自分で実装するか，あらかじめ`。`を`。\\n`に置換しておき1行ずつ読み込むことになる。ただし`。`を区切り文字にする場合，文末記号でない`。`（ex. モーニング娘。）に注意する必要がある。日本語だとあまり気にならないが，英語だと`Mr.`など文末記号でないピリオドが頻繁に用いられるため注意が必要である。\n",
        "\n",
        "**タスク**: `moerus.txt`を**1行ずつ**読み込んで，ルビを除去した上で**1行ずつ**`moerus_noruby.txt`に書き込んでください。  \n",
        "※テキストファイルオブジェクトをイテレータとして用いる時，区切り文字として使われる`'\\n'`は除去されないことに注意。改行に過不足はないか。"
      ]
    },
    {
      "cell_type": "code",
      "execution_count": null,
      "metadata": {},
      "outputs": [],
      "source": [
        "g = open('data/moerus_noruby.txt', 'w')\n",
        "for text in open('data/moerus.txt'):\n",
        "    #print(r2.sub('', text), file=g, end='')\n",
        "    g.write(r2.sub('', text)) # お好きな方で\n"
      ]
    },
    {
      "cell_type": "code",
      "execution_count": null,
      "metadata": {},
      "outputs": [],
      "source": [
        "# 確認コマンド\n",
        "# Unix\n",
        "!head data/moerus_noruby.txt\n"
      ]
    },
    {
      "cell_type": "code",
      "execution_count": null,
      "metadata": {},
      "outputs": [],
      "source": [
        "# Windows用\n",
        "!type data/moerus_noruby.txt"
      ]
    },
    {
      "cell_type": "markdown",
      "metadata": {},
      "source": [
        "# 参考文献\n",
        "人工知能学会. (2017). 人工知能学大事典. 共立出版."
      ]
    }
  ],
  "metadata": {},
  "nbformat": 4,
  "nbformat_minor": 2
}
