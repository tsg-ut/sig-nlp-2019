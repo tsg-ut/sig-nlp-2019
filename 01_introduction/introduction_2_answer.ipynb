{
  "cells": [
    {
      "cell_type": "code",
      "execution_count": null,
      "metadata": {},
      "outputs": [],
      "source": [
        "%load_ext expectmagic"
      ]
    },
    {
      "cell_type": "markdown",
      "metadata": {},
      "source": [
        "# 前処理（続き）\n",
        "\n",
        "## ゴミの除去\n",
        "### 正規表現（続き）\n",
        "\n",
        "### 実習: Wikipediaのダンプの内部リンクをプレーンテキストに変換しよう\n",
        "\n",
        "復習ともう少し複雑な正規表現の処理を兼ねて。"
      ]
    },
    {
      "cell_type": "code",
      "execution_count": null,
      "metadata": {},
      "outputs": [],
      "source": [
        "# 実習用ファイルのダウンロード\n",
        "from urllib import request\n",
        "\n",
        "with open('data/uk.txt', 'wb') as f, request.urlopen('https://gist.githubusercontent.com/pizzacat83/9a9609d393c251b8df8e5bde96cd38c6/raw/141e1a9344e1cc7a8515e0ab85e57a92733435b7/uk.txt') as req:\n",
        "    f.write(req.read())\n"
      ]
    },
    {
      "cell_type": "code",
      "execution_count": null,
      "metadata": {},
      "outputs": [],
      "source": [
        "### tutor-only\n",
        "\n",
        "import os\n",
        "assert os.path.exists('data/uk.txt')"
      ]
    },
    {
      "cell_type": "markdown",
      "metadata": {},
      "source": [
        "#### 1. ファイル読み込み（復習）\n",
        "`data/uk.txt`を読み込んで，`text`という変数にファイルの内容を代入してください。その後，`text`を表示してください。\n",
        "\n",
        "- ファイルを開く関数`open('ファイルパス', 'モード (optional)')`\n",
        "- 一気にファイル全体を読みこむメソッド`f.read()`"
      ]
    },
    {
      "cell_type": "code",
      "execution_count": null,
      "metadata": {},
      "outputs": [],
      "source": [
        "### answer\n",
        "\n",
        "f = open('data/uk.txt')\n",
        "text = f.read()\n",
        "print(text)"
      ]
    },
    {
      "cell_type": "markdown",
      "metadata": {},
      "source": [
        "`[[ほにゃらら]]`という形で内部リンクが表示されています。これを`ほにゃらら`に変換していきます。雑にやるなら`[[`と`]]`を全部削除してしまうわけですが，今回は対応している括弧だけを除去したいという設定でいきます。\n",
        "\n",
        "#### 内部リンクの検出\n",
        "\n",
        "**タスク**: `text`に含まれる`[[...]]`に，括弧ごとマッチするような正規表現`r`を作成してください。その後，その正規表現にマッチする文字列を全て列挙してください。\n",
        "\n",
        "[Python公式チュートリアル](https://docs.python.org/ja/3/howto/regex.html)\n",
        "\n",
        "- まず`re`をインポート\n",
        "- 正規表現は`re.compile('source')`で作る\n",
        "- 「どんな文字でもいい，何文字でもいい」: `.*`\n",
        "  - 最短マッチにするなら`.*?`\n",
        "- パターンを全て検索するには`r.findall('検索対象文字列')`\n",
        "\n",
        "\n",
        "- `[tsg]`: `t`, `s`, `g`のいずれか1文字にマッチ\n",
        "- `.`: 改行以外の任意の1文字にマッチ\n",
        "- `*`: 0回以上の繰り返し\n",
        "- `+`: 1回以上の繰り返し\n",
        "- `?`: `*` `+`の後につけると最左マッチになる（デフォルトは最長マッチ）\n",
        "- `pattern1|pattern2`: `pattern1`または`pattern2`にマッチ\n",
        "- `(pattern)`: グルーピング。演算子の優先度を変えるのにも使えるし，`()`内にマッチしたテキストを得ることもできる\n",
        "- `\\`: 特殊文字のエスケープ"
      ]
    },
    {
      "cell_type": "code",
      "execution_count": null,
      "metadata": {},
      "outputs": [],
      "source": [
        "%%expect ['[[イングランド]]', '[[スコットランド]]', '[[ウェールズ]]', '[[北アイルランド]]', '[[ロンドン]]', '[[エディンバラ]]', '[[カーディフ]]', '[[ベルファスト]]']\n",
        "### answer\n",
        "\n",
        "import re\n",
        "\n",
        "#r = re.compile('\\\\[\\\\[.+?\\\\]\\\\]')\n",
        "r = re.compile('\\[\\[.+?\\]\\]')\n",
        "\n",
        "r.findall(text)"
      ]
    },
    {
      "cell_type": "markdown",
      "metadata": {},
      "source": [
        "**注意点**\n",
        "- `[`と`]`は`[tsg]`で使う特殊文字なので，文字としての`[`を指定したいときは`/`でエスケープ\n",
        "- `'\\['`ではpythonが`\\`をpythonの文字列のエスケープ文字`\\`として認識してしまう\n",
        "  + `\\n`と表示される文字列を作ろうとして`'\\n'`とすると改行になってしまうので，`'\\\\n'`と書くのと同じ\n",
        "  + つまり`'\\\\['`と書けば良い\n",
        "  + 正規表現ではこうしたダブルバックスラッシュを多用するので，代わりに`\\`を文字の`\\`として扱ってくれる文字列リテラル`r'...'`を使うことも"
      ]
    },
    {
      "cell_type": "markdown",
      "metadata": {},
      "source": [
        "#### 括弧の除去\n",
        "前回は`《ルビ》`を丸ごと除去する（空文字列で置換する）という処理をしましたが，今回は丸ごと削除ではなく，括弧の中のテキストは残す必要があります。つまり，`[[ほにゃらら]]`を`ほにゃらら`で置換できれば良さそうです。\n",
        "\n",
        "これを可能にするのが**グルーピング**です。検出した部分のうち括弧の中身だけを残したいので，括弧の中身をグルーピングします。グルーピングをするには，パターンを`()`で括ります。括った上で，まずは`findall`してみましょう。"
      ]
    },
    {
      "cell_type": "code",
      "execution_count": null,
      "metadata": {},
      "outputs": [],
      "source": [
        "#%%expect ['イングランド', 'スコットランド', 'ウェールズ', '北アイルランド', 'ロンドン', 'エディンバラ', 'カーディフ', 'ベルファスト']\n",
        "### answer\n",
        "\n",
        "r = re.compile('\\[\\[(.+?)\\]\\]')\n",
        "\n",
        "r.findall(text)"
      ]
    },
    {
      "cell_type": "markdown",
      "metadata": {},
      "source": [
        "`[[ほにゃらら]]`を`ほにゃらら`に置換するのにも前回同様`r.sub('置換後', '対象文字列')`を使います。ただし，置換後に指定したいものはかっこの中身であり，マッチごとに異なります。置換後の文字列には先ほど作ったグループを指定することができます。かっこの中身は1番目のグループなので，`\\1`と指定することで括弧の中身に置換することができます。"
      ]
    },
    {
      "cell_type": "code",
      "execution_count": null,
      "metadata": {},
      "outputs": [],
      "source": [
        "# 例\n",
        "\n",
        "r.sub('\\\\1', 'abc[[def]]g[[h]]i')"
      ]
    },
    {
      "cell_type": "code",
      "execution_count": null,
      "metadata": {},
      "outputs": [],
      "source": [
        "### tutor-only\n",
        "\n",
        "assert _ == 'abcdefghi'"
      ]
    },
    {
      "cell_type": "markdown",
      "metadata": {},
      "source": [
        "**タスク**: `text`の`[[ほにゃらら]]`を`ほにゃらら`に置換してください。"
      ]
    },
    {
      "cell_type": "code",
      "execution_count": null,
      "metadata": {},
      "outputs": [],
      "source": [
        "%%expect 'イギリスは四つの非独立国であるイングランド、スコットランド、ウェールズ、北アイルランドより構成される。それぞれの国は首都を持ち、ロンドン（イングランド）、エディンバラ（スコットランド）、カーディフ（ウェールズ）、ベルファスト（北アイルランド）がそれである。中でもイングランドの首都であるロンドンは、イギリスの首都としての機能も置かれる。'\n",
        "### answer\n",
        "\n",
        "r.sub('\\\\1', text)\n"
      ]
    },
    {
      "cell_type": "markdown",
      "metadata": {},
      "source": [
        "## 正規化\n",
        "本質的に区別する必要がない表層的な違いを統一します。\n",
        "\n",
        "- アルファベットを全て小文字に\n",
        "- 半角・全角の統一\n",
        "\n",
        "ex. [たほいやの正規化関数](https://github.com/tsg-ut/slackbot/blob/513fcced5c957f6484f9e306e9b5586691eaa044/tahoiya/lib.js#L117-L129)"
      ]
    },
    {
      "cell_type": "code",
      "execution_count": null,
      "metadata": {},
      "outputs": [],
      "source": [
        "# アルファベットの大文字・小文字変換\n",
        "\n",
        "text = 'pizzacat83 lives in Japan.'\n",
        "\n",
        "print(text)\n",
        "print(text.lower()) # 小文字\n",
        "print(text.upper()) # 大文字\n",
        "print(text.capitalize()) # 1文字目だけ大文字\n",
        "print(text.title()) # 単語頭だけ大文字"
      ]
    },
    {
      "cell_type": "code",
      "execution_count": null,
      "metadata": {},
      "outputs": [],
      "source": [
        "# 半角・全角の統一\n",
        "\n",
        "import jaconv\n",
        "\n",
        "text = 'ぬるぽｶﾞｯＮｕｌｌPointer１２３４５67890'\n",
        "\n",
        "print(text)\n",
        "print(jaconv.h2z(text)) # Hankaku2Zenkaku デフォルトではカタカナのみ\n",
        "print(jaconv.h2z(text, ascii=True, digit=True)) # 英数字も変換対象に\n",
        "print(jaconv.z2h(text, ascii=True, digit=True)) # 全角→半角\n",
        "print(jaconv.hira2kata(text)) # ひらがな→カタカナ"
      ]
    },
    {
      "cell_type": "markdown",
      "metadata": {},
      "source": []
    },
    {
      "cell_type": "code",
      "execution_count": null,
      "metadata": {},
      "outputs": [],
      "source": []
    }
  ],
  "metadata": {},
  "nbformat": 4,
  "nbformat_minor": 2
}
